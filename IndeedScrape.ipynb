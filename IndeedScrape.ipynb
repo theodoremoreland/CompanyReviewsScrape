{
 "cells": [
  {
   "cell_type": "code",
   "execution_count": null,
   "metadata": {},
   "outputs": [],
   "source": [
    "import re\n",
    "import time\n",
    "from config import username, password\n",
    "from splinter import Browser\n",
    "from Models.DB import DB"
   ]
  },
  {
   "cell_type": "code",
   "execution_count": null,
   "metadata": {},
   "outputs": [],
   "source": [
    "db = DB()\n",
    "db.connect()\n",
    "db.createTableReviews(\"indeed\")"
   ]
  },
  {
   "cell_type": "code",
   "execution_count": 1,
   "metadata": {},
   "outputs": [],
   "source": [
    "#db.dropTables(\"indeed_reviews\")"
   ]
  },
  {
   "cell_type": "code",
   "execution_count": null,
   "metadata": {},
   "outputs": [],
   "source": [
    "urls = [\"https://secure.indeed.com/account/login?hl=en_US&co=US&continue=https%3A%2F%2Fwww.indeed.com%2Fcmp%2FDaugherty-Business-Solutions%2Freviews&tmpl=desktop&service=&from=gnav-util-acme--acme-webapp\",\n",
    "        \"https://www.indeed.com/cmp/Daugherty-Business-Solutions/reviews\"]"
   ]
  },
  {
   "cell_type": "code",
   "execution_count": null,
   "metadata": {},
   "outputs": [],
   "source": [
    "def login(url=urls[0]):\n",
    "    pass"
   ]
  },
  {
   "cell_type": "code",
   "execution_count": null,
   "metadata": {},
   "outputs": [],
   "source": [
    "def visitURL(url=urls[1]):\n",
    "    global browser\n",
    "    \n",
    "    executable_path = {'executable_path': 'chromedriver.exe'}\n",
    "    browser = Browser('chrome', **executable_path, headless=False)\n",
    "    browser.driver.set_window_size(1280, 720)\n",
    "    \n",
    "    browser.visit(url)"
   ]
  },
  {
   "cell_type": "code",
   "execution_count": null,
   "metadata": {},
   "outputs": [],
   "source": [
    "visitURL(url=urls[1])"
   ]
  },
  {
   "cell_type": "code",
   "execution_count": null,
   "metadata": {},
   "outputs": [],
   "source": [
    "def scrapeReviews():\n",
    "    \"\"\"\n",
    "        header, body, rating, role, date, response, source\n",
    "    \"\"\"\n",
    "    \n",
    "    _id = 0\n",
    "    \n",
    "    while browser.is_element_present_by_css(\"a[class='pagination__ArrowStyle__nextArrow  ']\"):\n",
    "        \n",
    "        reviews = browser.find_by_css(\"div[class='hreview']\")\n",
    "        button = browser.find_by_css(\"a[class='pagination__ArrowStyle__nextArrow  ']\")\n",
    "        \n",
    "        for review in reviews:\n",
    "\n",
    "            _id += 1\n",
    "            \n",
    "            header = review.find_by_css(\"a[class='reviewLink']\").text.replace(\"%\", \"%%\").replace(\"$\", \"\\$\")\n",
    "            body = review.find_by_css(\"div[class='col-sm-11 pl-sm-lg mx-0']\").text.replace(\"%\", \"%%\").replace(\"$\", \"\\$\")\n",
    "            rating = float(review.find_by_css('span[class=\"value-title\"]')._element.get_attribute('title'))\n",
    "            role = review.find_by_css('span[class=\"authorJobTitle middle reviewer\"]').text.replace(\"%\", \"%%\").replace(\"$\", \"\\$\")\n",
    "            \n",
    "            try:\n",
    "                date = review.find_by_css(\"time[class='date subtle small']\").text\n",
    "                \n",
    "            except:\n",
    "                date = \"0\"\n",
    "                \n",
    "            source = \"indeed\"\n",
    "                \n",
    "            response = \"No response\"\n",
    "                \n",
    "            \n",
    "            print(f\"Id: {_id}\\nDate: {date}\\n{header}\\n{rating}\\n{body}\\n{source}\\nResponse: {response}\\n-----------------------------------------------------------------------------\")\n",
    "            \n",
    "            db.intoReviews(\"indeed\", header, body, rating, role, date, response, source)\n",
    "            \n",
    "        #simulates clicking \"next\" button\n",
    "        browser.visit( button._element.get_attribute(\"href\"))"
   ]
  },
  {
   "cell_type": "code",
   "execution_count": null,
   "metadata": {},
   "outputs": [],
   "source": [
    "scrapeReviews()"
   ]
  },
  {
   "cell_type": "code",
   "execution_count": null,
   "metadata": {},
   "outputs": [],
   "source": []
  },
  {
   "cell_type": "code",
   "execution_count": null,
   "metadata": {},
   "outputs": [],
   "source": []
  }
 ],
 "metadata": {
  "kernelspec": {
   "display_name": "Python 3",
   "language": "python",
   "name": "python3"
  },
  "language_info": {
   "codemirror_mode": {
    "name": "ipython",
    "version": 3
   },
   "file_extension": ".py",
   "mimetype": "text/x-python",
   "name": "python",
   "nbconvert_exporter": "python",
   "pygments_lexer": "ipython3",
   "version": "3.6.8"
  }
 },
 "nbformat": 4,
 "nbformat_minor": 2
}
